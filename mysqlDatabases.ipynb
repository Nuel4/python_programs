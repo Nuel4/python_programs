{
 "cells": [
  {
   "cell_type": "code",
   "execution_count": 1,
   "metadata": {},
   "outputs": [
    {
     "name": "stdout",
     "output_type": "stream",
     "text": [
      "('house',)\n",
      "('information_schema',)\n",
      "('mysql',)\n",
      "('performance_schema',)\n",
      "('sakila',)\n",
      "('student',)\n",
      "('sys',)\n",
      "('world',)\n"
     ]
    }
   ],
   "source": [
    "import mysql.connector\n",
    "db = mysql.connector.connect(host =\"localhost\" ,user =\"root\" ,password =\"admin\")\n",
    "mydb = db.cursor()\n",
    "mydb.execute('show databases')\n",
    "\n",
    "for i in mydb:\n",
    "    print(i)"
   ]
  },
  {
   "cell_type": "markdown",
   "metadata": {},
   "source": [
    "# selecting all the data in the database"
   ]
  },
  {
   "cell_type": "code",
   "execution_count": 2,
   "metadata": {},
   "outputs": [
    {
     "name": "stdout",
     "output_type": "stream",
     "text": [
      "(1, 'Chika', 'Chima', 590542123, 400000, '3 bedroom flat')\n",
      "(2, 'Precious', 'Darlington', 766443322, 250000, '2 bedroom flat')\n",
      "(3, 'Felicia', 'Railey', 352121215, 350000, '3 bedroom flat')\n",
      "(4, 'Evans', 'Mike', 568976323, 3200000, '2 bedroom flat')\n",
      "(5, 'Gloria ', 'Favour', 457883736, 450000, '4 bedroom flat')\n"
     ]
    }
   ],
   "source": [
    "import mysql.connector\n",
    "db = mysql.connector.connect(host =\"localhost\" ,user =\"root\" ,password =\"admin\" , database = 'house')\n",
    "mydb = db.cursor()\n",
    "mydb.execute('select * from tenants')\n",
    "\n",
    "\n",
    "for i in mydb:\n",
    "    print(i)"
   ]
  },
  {
   "cell_type": "markdown",
   "metadata": {},
   "source": [
    "# fetching only one item"
   ]
  },
  {
   "cell_type": "code",
   "execution_count": 8,
   "metadata": {},
   "outputs": [
    {
     "name": "stdout",
     "output_type": "stream",
     "text": [
      "1\n",
      "Chika\n",
      "Chima\n",
      "590542123\n",
      "400000\n",
      "3 bedroom flat\n"
     ]
    }
   ],
   "source": [
    "import mysql.connector\n",
    "db = mysql.connector.connect(host =\"localhost\" ,user =\"root\" ,password =\"admin\" , database = 'house')\n",
    "mydb = db.cursor()\n",
    "mydb.execute('select * from tenants')\n",
    "result = mydb.fetchone()\n",
    "for i in result:\n",
    "    print(i)"
   ]
  },
  {
   "cell_type": "markdown",
   "metadata": {},
   "source": [
    "# fetching all using fetchall()"
   ]
  },
  {
   "cell_type": "code",
   "execution_count": 9,
   "metadata": {},
   "outputs": [
    {
     "name": "stdout",
     "output_type": "stream",
     "text": [
      "(1, 'Chika', 'Chima', 590542123, 400000, '3 bedroom flat')\n",
      "(2, 'Precious', 'Darlington', 766443322, 250000, '2 bedroom flat')\n",
      "(3, 'Felicia', 'Railey', 352121215, 350000, '3 bedroom flat')\n",
      "(4, 'Evans', 'Mike', 568976323, 3200000, '2 bedroom flat')\n",
      "(5, 'Gloria ', 'Favour', 457883736, 450000, '4 bedroom flat')\n"
     ]
    }
   ],
   "source": [
    "import mysql.connector\n",
    "db = mysql.connector.connect(host =\"localhost\" ,user =\"root\" ,password =\"admin\" , database = 'house')\n",
    "mydb = db.cursor()\n",
    "mydb.execute('select * from tenants')\n",
    "result = mydb.fetchall()\n",
    "for i in result:\n",
    "    print(i)"
   ]
  },
  {
   "cell_type": "markdown",
   "metadata": {},
   "source": [
    "# single row"
   ]
  },
  {
   "cell_type": "code",
   "execution_count": 15,
   "metadata": {},
   "outputs": [
    {
     "name": "stdout",
     "output_type": "stream",
     "text": [
      "5\n",
      "Gloria \n",
      "Favour\n",
      "457883736\n",
      "450000\n",
      "4 bedroom flat\n"
     ]
    }
   ],
   "source": [
    "import mysql.connector\n",
    "db = mysql.connector.connect(host =\"localhost\" ,user =\"root\" ,password =\"admin\" , database = 'house')\n",
    "mydb = db.cursor()\n",
    "mydb.execute('select * from tenants where id = 5 ')\n",
    "result = mydb.fetchone()\n",
    "for i in result:\n",
    "    print(i)"
   ]
  },
  {
   "cell_type": "markdown",
   "metadata": {},
   "source": [
    "# fetching single row from the table"
   ]
  },
  {
   "cell_type": "code",
   "execution_count": 17,
   "metadata": {},
   "outputs": [
    {
     "name": "stdout",
     "output_type": "stream",
     "text": [
      "(4, 'Evans', 'Mike', 568976323, 3200000, '2 bedroom flat')\n"
     ]
    }
   ],
   "source": [
    "db = mysql.connector.connect(host =\"localhost\" ,user =\"root\" ,password =\"admin\" , database = 'house')\n",
    "mydb = db.cursor()\n",
    "mydb.execute('select * from tenants where id = 4 ')\n",
    "result = mydb.fetchall()\n",
    "for i in result:\n",
    "    print(i)"
   ]
  },
  {
   "cell_type": "code",
   "execution_count": 23,
   "metadata": {},
   "outputs": [
    {
     "name": "stdout",
     "output_type": "stream",
     "text": [
      "4\n",
      "Evans\n",
      "Mike\n",
      "568976323\n",
      "3200000\n",
      "2 bedroom flat\n"
     ]
    }
   ],
   "source": [
    "db = mysql.connector.connect(host =\"localhost\" ,user =\"root\" ,password =\"admin\" , database = 'house')\n",
    "mydb = db.cursor()\n",
    "mydb.execute('select * from tenants where id = 4')\n",
    "result = mydb.fetchone()\n",
    "for i in result:\n",
    "    print(i)"
   ]
  },
  {
   "cell_type": "markdown",
   "metadata": {},
   "source": [
    "# database creation"
   ]
  },
  {
   "cell_type": "code",
   "execution_count": 24,
   "metadata": {},
   "outputs": [],
   "source": [
    "db = mysql.connector.connect(host =\"localhost\" ,user =\"root\" ,password =\"admin\" , database = 'house')\n",
    "mydb = db.cursor()\n",
    "mydb.execute('create database computer')\n"
   ]
  },
  {
   "cell_type": "code",
   "execution_count": 25,
   "metadata": {},
   "outputs": [
    {
     "name": "stdout",
     "output_type": "stream",
     "text": [
      "('computer',)\n",
      "('house',)\n",
      "('information_schema',)\n",
      "('mysql',)\n",
      "('performance_schema',)\n",
      "('sakila',)\n",
      "('shoes',)\n",
      "('student',)\n",
      "('sys',)\n",
      "('world',)\n"
     ]
    }
   ],
   "source": [
    "import mysql.connector\n",
    "db = mysql.connector.connect(host =\"localhost\" ,user =\"root\" ,password =\"admin\",database ='computer' )\n",
    "mydb = db.cursor()\n",
    "mydb.execute('create table company(id int(5) ,brand varchar(20) , quantity int(10) ,price int(20) ,primary key(id) )')\n",
    "mydb.execute('show databases')\n",
    "result = mydb.fetchall()\n",
    "for i in result:\n",
    "    print(i)\n"
   ]
  },
  {
   "cell_type": "markdown",
   "metadata": {},
   "source": [
    "# creation of tables"
   ]
  },
  {
   "cell_type": "code",
   "execution_count": 26,
   "metadata": {},
   "outputs": [
    {
     "name": "stdout",
     "output_type": "stream",
     "text": [
      "('company',)\n"
     ]
    }
   ],
   "source": [
    "import mysql.connector\n",
    "db = mysql.connector.connect(host =\"localhost\" ,user =\"root\" ,password =\"admin\",database ='computer' )\n",
    "mydb = db.cursor()\n",
    "#mydb.execute('create table company(id int(5) ,brand varchar(20) , quantity int(10) ,price int(20) ,primary key(id) )')\n",
    "mydb.execute('show tables')\n",
    "result = mydb.fetchall()\n",
    "for i in result:\n",
    "    print(i)\n"
   ]
  },
  {
   "cell_type": "code",
   "execution_count": 36,
   "metadata": {},
   "outputs": [
    {
     "name": "stdout",
     "output_type": "stream",
     "text": [
      "(10, 'HP', 10, 35000)\n",
      "(11, 'Dell', 20, 25000)\n",
      "(12, 'Apple', 15, 35000)\n",
      "(13, 'LENOVO', 13, 15000)\n",
      "(14, 'TOSHIBA', 23, 17000)\n",
      "(15, 'SAMSUNG', 5, 30000)\n"
     ]
    }
   ],
   "source": [
    "import mysql.connector\n",
    "db = mysql.connector.connect(host =\"localhost\" ,user =\"root\" ,password =\"admin\",database ='computer' )\n",
    "mydb = db.cursor()\n",
    "\n",
    "#sqlform = \"insert into company values(10 ,'HP' ,10 ,20000) \"\n",
    "#mydb.execute(sqlform)\n",
    "mydb.execute(\"select * from company\")\n",
    "my = mydb.fetchall()\n",
    "for k in my:\n",
    "    print(k)\n"
   ]
  },
  {
   "cell_type": "code",
   "execution_count": 34,
   "metadata": {},
   "outputs": [
    {
     "name": "stdout",
     "output_type": "stream",
     "text": [
      "HP\n"
     ]
    }
   ],
   "source": [
    "import mysql.connector\n",
    "db = mysql.connector.connect(host =\"localhost\" ,user =\"root\" ,password =\"admin\",database ='computer' )\n",
    "mydb = db.cursor()\n",
    "\n",
    "mydb.execute(\"select brand from company\")\n",
    "my = mydb.fetchone()\n",
    "for k in my:\n",
    "    print(k)\n"
   ]
  },
  {
   "cell_type": "markdown",
   "metadata": {},
   "source": [
    "# updation"
   ]
  },
  {
   "cell_type": "code",
   "execution_count": 37,
   "metadata": {},
   "outputs": [],
   "source": [
    "import mysql.connector\n",
    "db = mysql.connector.connect(host =\"localhost\" ,user =\"root\" ,password =\"admin\",database ='computer' )\n",
    "mydb = db.cursor()\n",
    "\n",
    "\n",
    "sql = \"update company set price =35000 where brand = 'hp' \"\n",
    "mydb.execute(sql)\n",
    "db.commit()"
   ]
  },
  {
   "cell_type": "code",
   "execution_count": null,
   "metadata": {},
   "outputs": [],
   "source": []
  },
  {
   "cell_type": "code",
   "execution_count": 41,
   "metadata": {},
   "outputs": [],
   "source": [
    "import mysql.connector\n",
    "db = mysql.connector.connect(host =\"localhost\" ,user =\"root\" ,password =\"admin\",database ='student' )\n",
    "mydb = db.cursor()\n",
    "\n",
    "sqlform = \"insert into studentdetails(id,fname,lname, phone ,course, sem) values(%s ,%s,%s ,%s ,%s,%s)\"\n",
    "prod =[(106 ,'Mercy' ,'Nuel' ,788940433,'ACCOUNTING' ,'6TH TERM'),(17,'CHUKWUDI' ,'EDWAR' ,568964332,'COMPUTER SCIENCE','4TH SEM') ]\n",
    "mydb.executemany(sqlform,prod)\n",
    "db.commit()"
   ]
  },
  {
   "cell_type": "code",
   "execution_count": 48,
   "metadata": {},
   "outputs": [
    {
     "name": "stdout",
     "output_type": "stream",
     "text": [
      "(17, 'CHUKWUDI', 'EDWAR', 568964332, 'COMPUTER SCIENCE', '4TH SEM')\n",
      "(101, 'Mike', 'Matthew', 576884338, 'BCA', '3RD Term')\n",
      "(102, 'Mikel', 'Mark', 38896443, 'BA', '3RD Term')\n",
      "(103, 'Moses', 'Kamiton', 590542123, 'BCOM', '4TH Term')\n",
      "(104, 'Martha', 'Nuel', 76543612, 'COMPUTER SCIENCE', '2ND Term')\n",
      "(105, 'Rita', 'Jordan', 236809863, 'MEDICINE', '1st Term')\n",
      "(106, 'Mercy', 'Nuel', 788940433, 'ACCOUNTING', '6TH TERM')\n"
     ]
    }
   ],
   "source": [
    "db = mysql.connector.connect(host =\"localhost\" ,user =\"root\" ,password =\"admin\",database ='student' )\n",
    "mydb = db.cursor()\n",
    "\n",
    "\n",
    "mydb.execute(\"select * from studentdetails\")\n",
    "my = mydb.fetchall()\n",
    "for k in my:\n",
    "    print(k)"
   ]
  },
  {
   "cell_type": "markdown",
   "metadata": {},
   "source": [
    "# selecting single row"
   ]
  },
  {
   "cell_type": "code",
   "execution_count": 45,
   "metadata": {},
   "outputs": [
    {
     "name": "stdout",
     "output_type": "stream",
     "text": [
      "17\n",
      "CHUKWUDI\n",
      "EDWAR\n",
      "568964332\n",
      "COMPUTER SCIENCE\n",
      "4TH SEM\n"
     ]
    }
   ],
   "source": [
    "db = mysql.connector.connect(host =\"localhost\" ,user =\"root\" ,password =\"admin\",database ='student' )\n",
    "mydb = db.cursor()\n",
    "\n",
    "\n",
    "mydb.execute(\"select  *from studentdetails where fname ='chukwudi'\")\n",
    "my = mydb.fetchone()\n",
    "for k in my:\n",
    "    print(k)"
   ]
  },
  {
   "cell_type": "markdown",
   "metadata": {},
   "source": [
    "# deletion operation"
   ]
  },
  {
   "cell_type": "code",
   "execution_count": 49,
   "metadata": {},
   "outputs": [],
   "source": [
    "db = mysql.connector.connect(host =\"localhost\" ,user =\"root\" ,password =\"admin\",database ='student' )\n",
    "mydb = db.cursor()\n",
    "\n",
    "\n",
    "sql =\"delete  from studentdetails where fname ='rita'\"\n",
    "mydb.execute(sql)\n",
    "db.commit()"
   ]
  },
  {
   "cell_type": "code",
   "execution_count": 50,
   "metadata": {},
   "outputs": [
    {
     "name": "stdout",
     "output_type": "stream",
     "text": [
      "(17, 'CHUKWUDI', 'EDWAR', 568964332, 'COMPUTER SCIENCE', '4TH SEM')\n",
      "(101, 'Mike', 'Matthew', 576884338, 'BCA', '3RD Term')\n",
      "(102, 'Mikel', 'Mark', 38896443, 'BA', '3RD Term')\n",
      "(103, 'Moses', 'Kamiton', 590542123, 'BCOM', '4TH Term')\n",
      "(104, 'Martha', 'Nuel', 76543612, 'COMPUTER SCIENCE', '2ND Term')\n",
      "(106, 'Mercy', 'Nuel', 788940433, 'ACCOUNTING', '6TH TERM')\n"
     ]
    }
   ],
   "source": [
    "db = mysql.connector.connect(host =\"localhost\" ,user =\"root\" ,password =\"admin\",database ='student' )\n",
    "mydb = db.cursor()\n",
    "\n",
    "\n",
    "mydb.execute(\"select * from studentdetails\")\n",
    "my = mydb.fetchall()\n",
    "for k in my:\n",
    "    print(k)"
   ]
  },
  {
   "cell_type": "code",
   "execution_count": null,
   "metadata": {},
   "outputs": [],
   "source": []
  }
 ],
 "metadata": {
  "kernelspec": {
   "display_name": "Python 3",
   "language": "python",
   "name": "python3"
  },
  "language_info": {
   "codemirror_mode": {
    "name": "ipython",
    "version": 3
   },
   "file_extension": ".py",
   "mimetype": "text/x-python",
   "name": "python",
   "nbconvert_exporter": "python",
   "pygments_lexer": "ipython3",
   "version": "3.7.3"
  }
 },
 "nbformat": 4,
 "nbformat_minor": 2
}
