{
 "cells": [
  {
   "cell_type": "code",
   "execution_count": 1,
   "metadata": {},
   "outputs": [
    {
     "name": "stdout",
     "output_type": "stream",
     "text": [
      "[(20, 3, 21, 45, 67) (5, 51, 23, 31) (11, 2, 90, 5, 7)]\n"
     ]
    }
   ],
   "source": [
    "import numpy as np\n",
    "a =np.array([(20,3,21,45,67) ,(5,51,23,31) ,(11,2,90,5,7)])\n",
    "print(a)"
   ]
  },
  {
   "cell_type": "code",
   "execution_count": 2,
   "metadata": {},
   "outputs": [],
   "source": [
    "a =np.array([(5,6,73,2),(4,7,9,2,12),(8,3,4,5,1)])"
   ]
  },
  {
   "cell_type": "code",
   "execution_count": 3,
   "metadata": {},
   "outputs": [
    {
     "data": {
      "text/plain": [
       "array([(5, 6, 73, 2), (4, 7, 9, 2, 12), (8, 3, 4, 5, 1)], dtype=object)"
      ]
     },
     "execution_count": 3,
     "metadata": {},
     "output_type": "execute_result"
    }
   ],
   "source": [
    "a"
   ]
  },
  {
   "cell_type": "code",
   "execution_count": 4,
   "metadata": {},
   "outputs": [
    {
     "name": "stdout",
     "output_type": "stream",
     "text": [
      "object\n"
     ]
    }
   ],
   "source": [
    "print(a.dtype)"
   ]
  },
  {
   "cell_type": "code",
   "execution_count": 6,
   "metadata": {},
   "outputs": [],
   "source": [
    "b=np.array([8,9,7,5])"
   ]
  },
  {
   "cell_type": "code",
   "execution_count": 7,
   "metadata": {},
   "outputs": [
    {
     "data": {
      "text/plain": [
       "array([8, 9, 7, 5])"
      ]
     },
     "execution_count": 7,
     "metadata": {},
     "output_type": "execute_result"
    }
   ],
   "source": [
    "b"
   ]
  },
  {
   "cell_type": "code",
   "execution_count": 8,
   "metadata": {},
   "outputs": [
    {
     "data": {
      "text/plain": [
       "dtype('int32')"
      ]
     },
     "execution_count": 8,
     "metadata": {},
     "output_type": "execute_result"
    }
   ],
   "source": [
    "b.dtype"
   ]
  },
  {
   "cell_type": "code",
   "execution_count": 10,
   "metadata": {},
   "outputs": [
    {
     "name": "stdout",
     "output_type": "stream",
     "text": [
      "[[20  3 21 45 67]]\n"
     ]
    }
   ],
   "source": [
    "import  numpy as np\n",
    "a =np.array([(20,3,21,45,67)])\n",
    "print(a)\n"
   ]
  },
  {
   "cell_type": "code",
   "execution_count": 11,
   "metadata": {},
   "outputs": [
    {
     "name": "stdout",
     "output_type": "stream",
     "text": [
      "[(20, 3, 21, 45, 67) (3, 5, 6, 7, 8) (11, 2, 4, 9, 10) (21, 23, 45, 67)]\n"
     ]
    }
   ],
   "source": [
    "b =np.array([(20,3,21,45,67),(3,5,6,7,8),(11,2,4,9,10),(21,23,45,67)])\n",
    "print(b)\n"
   ]
  },
  {
   "cell_type": "code",
   "execution_count": 12,
   "metadata": {},
   "outputs": [
    {
     "name": "stdout",
     "output_type": "stream",
     "text": [
      "[[4 4 6 2]]\n"
     ]
    }
   ],
   "source": [
    "c =np.array([(4.2,4.5,6.7,2.1)] ,int)\n",
    "print(c)\n"
   ]
  },
  {
   "cell_type": "code",
   "execution_count": 13,
   "metadata": {},
   "outputs": [
    {
     "name": "stdout",
     "output_type": "stream",
     "text": [
      "[[20.  3. 21. 45. 67.]]\n"
     ]
    }
   ],
   "source": [
    "d =np.array([(20,3,21,45,67)] ,float)\n",
    "print(d)\n"
   ]
  },
  {
   "cell_type": "code",
   "execution_count": 14,
   "metadata": {},
   "outputs": [
    {
     "name": "stdout",
     "output_type": "stream",
     "text": [
      "partisioning : [ 0.   2.5  5.   7.5 10. ]\n"
     ]
    }
   ],
   "source": [
    "e =np.linspace(0,10,5)  #start stop ,part - how many places to divide 10\n",
    "print(\"partisioning :\" ,e)\n"
   ]
  },
  {
   "cell_type": "code",
   "execution_count": 15,
   "metadata": {},
   "outputs": [
    {
     "name": "stdout",
     "output_type": "stream",
     "text": [
      "log space : [1.00000000e+01 5.62341325e+05 3.16227766e+10 1.77827941e+15\n",
      " 1.00000000e+20]\n",
      "562341.33\n"
     ]
    }
   ],
   "source": [
    "f = np.logspace(1,20,5)     # log 0f 1 to 20 and partition it into 5\n",
    "print('log space :' ,f)\n",
    "print('%.2f' %f[1])\n"
   ]
  },
  {
   "cell_type": "code",
   "execution_count": 16,
   "metadata": {},
   "outputs": [
    {
     "name": "stdout",
     "output_type": "stream",
     "text": [
      "zeros : [0. 0. 0. 0. 0.]\n"
     ]
    }
   ],
   "source": [
    "g = np.zeros(5)\n",
    "print(\"zeros :\" ,g)"
   ]
  },
  {
   "cell_type": "code",
   "execution_count": 17,
   "metadata": {},
   "outputs": [
    {
     "name": "stdout",
     "output_type": "stream",
     "text": [
      "ones : [1. 1. 1. 1. 1.]\n"
     ]
    }
   ],
   "source": [
    "h =np.ones(5)\n",
    "print(\"ones :\" ,h)\n"
   ]
  },
  {
   "cell_type": "code",
   "execution_count": 18,
   "metadata": {},
   "outputs": [
    {
     "name": "stdout",
     "output_type": "stream",
     "text": [
      "only integer values: [1 1 1 1 1]\n"
     ]
    }
   ],
   "source": [
    "i = np.ones(5,int)\n",
    "print('only integer values:' ,i)\n"
   ]
  },
  {
   "cell_type": "code",
   "execution_count": 19,
   "metadata": {},
   "outputs": [
    {
     "name": "stdout",
     "output_type": "stream",
     "text": [
      "arange values : [1 3 5 7 9]\n"
     ]
    }
   ],
   "source": [
    "j =np.arange(1,10 ,2)  # print 1 ,excape 2 places and print next up till 10\n",
    "print('arange values :' ,j)"
   ]
  },
  {
   "cell_type": "code",
   "execution_count": null,
   "metadata": {},
   "outputs": [],
   "source": []
  }
 ],
 "metadata": {
  "kernelspec": {
   "display_name": "Python 3",
   "language": "python",
   "name": "python3"
  },
  "language_info": {
   "codemirror_mode": {
    "name": "ipython",
    "version": 3
   },
   "file_extension": ".py",
   "mimetype": "text/x-python",
   "name": "python",
   "nbconvert_exporter": "python",
   "pygments_lexer": "ipython3",
   "version": "3.7.3"
  }
 },
 "nbformat": 4,
 "nbformat_minor": 2
}
